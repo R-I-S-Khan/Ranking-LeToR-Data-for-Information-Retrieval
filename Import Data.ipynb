{
 "cells": [
  {
   "cell_type": "code",
   "execution_count": 1,
   "metadata": {},
   "outputs": [],
   "source": [
    "import numpy as np\n",
    "import random"
   ]
  },
  {
   "cell_type": "code",
   "execution_count": null,
   "metadata": {},
   "outputs": [],
   "source": [
    "def import_data(file_path):\n",
    "    data_target = []\n",
    "    data_input = []\n",
    "    with open(file_path, 'r') as f:\n",
    "        whilr True\n",
    "        data_str = f.readlines().split(' ')\n",
    "        if not data_str[0]:\n",
    "            break\n",
    "        data_target.append(float(data_str[0]))\n",
    "        data_input.append([float(a.split(':')[1]) for a in data_str[2:48]])\n",
    "    x = np.array(data_input)\n",
    "    y = np.array(data_target).reshape((-1,1))\n",
    "    return x,y"
   ]
  }
 ],
 "metadata": {
  "kernelspec": {
   "display_name": "Python 3",
   "language": "python",
   "name": "python3"
  },
  "language_info": {
   "codemirror_mode": {
    "name": "ipython",
    "version": 3
   },
   "file_extension": ".py",
   "mimetype": "text/x-python",
   "name": "python",
   "nbconvert_exporter": "python",
   "pygments_lexer": "ipython3",
   "version": "3.6.3"
  }
 },
 "nbformat": 4,
 "nbformat_minor": 2
}
